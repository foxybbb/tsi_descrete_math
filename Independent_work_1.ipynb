{
 "cells": [
  {
   "cell_type": "markdown",
   "metadata": {
    "id": "GJ2h6mV07fbt"
   },
   "source": [
    "## Independent work 1\n",
    "\n",
    "1)Represent both graphs as an adjacency matrix (2d array)?<br>\n",
    "2)For all vertices of both graphs compute and display the neighborhood <br>\n",
    "3)For all vertices of the simple graph compute and display their degrees<br>\n",
    "4)Implement a function that sums up all the degrees of the simple graph.<br> Isthe sum twice as much as the number of edges?<br>\n",
    "5)For all vertices of the directed graph compute and display their indegrees and outdegrees<br>\n",
    "6)Represent both graphs as a list of edges <br>\n",
    "7)Implement a function that takes a list of edges as an input and outputs alist of vertices (all values in the list must be unique)<br>\n",
    "8)Draw (plot) both graphs(their look may not match exactly the given task)<br>\n",
    "Writea concise report that contains:<br> \n",
    "&nbsp;&nbsp; 1) title page with your name, surname and student code; <br>\n",
    "&nbsp;&nbsp; 2) task description and your individual variant; <br>\n",
    "&nbsp;&nbsp; 3)screenshots of the outputs with comments; <br>\n",
    "&nbsp;&nbsp; 4) pictures of both graphs; <br>\n",
    "&nbsp;&nbsp; 5) source code  <br>\n",
    "10)Submitthe reportto the Moodle<br>"
   ]
  },
  {
   "cell_type": "code",
   "execution_count": null,
   "metadata": {
    "id": "l6X6BS4N9ANU"
   },
   "outputs": [],
   "source": [
    "import networkx as nx\n",
    "import matplotlib.pyplot as plt\n",
    "import numpy as np"
   ]
  },
  {
   "cell_type": "markdown",
   "metadata": {
    "id": "OPbh0BPu8v8d"
   },
   "source": [
    "#Task 1\n",
    "*Represent both graphs as an adjacency matrix (2d array)*"
   ]
  },
  {
   "cell_type": "code",
   "execution_count": null,
   "metadata": {
    "colab": {
     "base_uri": "https://localhost:8080/",
     "height": 147
    },
    "id": "hmYG5QM-8uTG",
    "outputId": "913a5b48-c74a-4cf0-c1bb-d5704740d525"
   },
   "outputs": [
    {
     "name": "stdout",
     "output_type": "stream",
     "text": [
      "[[0 0 1 1 1 0 0]\n",
      " [0 0 0 0 1 0 0]\n",
      " [1 0 0 1 0 0 0]\n",
      " [1 0 1 0 1 0 0]\n",
      " [1 1 0 1 0 0 0]\n",
      " [0 0 0 0 0 0 0]\n",
      " [0 0 0 0 0 0 0]]\n"
     ]
    }
   ],
   "source": [
    "G = nx.Graph()\n",
    "simpleGraphNodeList = (['1','2','3','4','5','6','7'])\n",
    "\n",
    "simpleGraphEdges = ([('1', '3'), ('1', '4'),\n",
    "                     ('1', '5'),('2', '5'),\n",
    "                     ('3', '1'),('4', '1'),\n",
    "                     ('4', '3'),('4', '5'),\n",
    "                     ('5', '1'),('5', '4')])\n",
    "\n",
    "G.add_nodes_from(simpleGraphNodeList)\n",
    "G.add_edges_from(simpleGraphEdges)\n",
    "\n",
    "def printAdjMatrix(Graph):\n",
    "  A = nx.adjacency_matrix(Graph)\n",
    "  print(A.todense())\n",
    "\n",
    "printAdjMatrix(G)"
   ]
  },
  {
   "cell_type": "code",
   "execution_count": null,
   "metadata": {
    "colab": {
     "base_uri": "https://localhost:8080/",
     "height": 147
    },
    "id": "l_rU9q9B7e-p",
    "outputId": "4bbe08cb-8593-424b-a96e-e4be31694b77"
   },
   "outputs": [
    {
     "name": "stdout",
     "output_type": "stream",
     "text": [
      "[[0 0 0 0 1 0 0]\n",
      " [0 0 0 0 0 0 0]\n",
      " [0 1 0 0 0 0 0]\n",
      " [0 0 0 0 0 0 0]\n",
      " [1 0 1 1 0 0 0]\n",
      " [0 0 0 0 0 0 0]\n",
      " [0 0 0 0 0 0 0]]\n"
     ]
    }
   ],
   "source": [
    "H = nx.DiGraph()\n",
    "simpleGraphNodeList = (['1','2','3','4','5','6','7'])\n",
    "\n",
    "simpleGraphEdges = ([('5','1'), ('1','5'),\n",
    "                     ('5','3'),('5','4'),\n",
    "                     ('3','2')])\n",
    "\n",
    "H.add_nodes_from(simpleGraphNodeList)\n",
    "H.add_edges_from(simpleGraphEdges)\n",
    "\n",
    "printAdjMatrix(H)"
   ]
  },
  {
   "cell_type": "markdown",
   "metadata": {
    "id": "iI112170AguX"
   },
   "source": [
    "#Task 2\n",
    "*For all vertices of both graphs compute and display the neighborhood*"
   ]
  },
  {
   "cell_type": "code",
   "execution_count": null,
   "metadata": {
    "colab": {
     "base_uri": "https://localhost:8080/",
     "height": 332
    },
    "id": "4zFSj3ISAppS",
    "outputId": "2cb7103e-d1a6-48dc-e353-8a76a66d0111"
   },
   "outputs": [
    {
     "name": "stdout",
     "output_type": "stream",
     "text": [
      "Neibours for simple Graph\n",
      "1,['3', '4', '5']\n",
      "2,['5']\n",
      "3,['1', '4']\n",
      "4,['1', '3', '5']\n",
      "5,['1', '2', '4']\n",
      "6,[]\n",
      "7,[]\n",
      "Neibours for directed Graph\n",
      "1,['5']\n",
      "2,[]\n",
      "3,['2']\n",
      "4,[]\n",
      "5,['1', '3', '4']\n",
      "6,[]\n",
      "7,[]\n"
     ]
    },
    {
     "data": {
      "text/plain": [
       "[]"
      ]
     },
     "execution_count": 28,
     "metadata": {
      "tags": []
     },
     "output_type": "execute_result"
    }
   ],
   "source": [
    "def calculatePrintNeibours(Graph):\n",
    "  nodes_list = list(Graph)\n",
    "  for n in nodes_list:\n",
    "    neighbors = [n for n in Graph.neighbors(n)]\n",
    "    print(\"{},{}\".format(n,neighbors))\n",
    "  return neighbors; \n",
    "\n",
    "print(\"Neibours for simple Graph\")\n",
    "calculatePrintNeibours(G)\n",
    "\n",
    "print(\"Neibours for directed Graph\")\n",
    "calculatePrintNeibours(H)"
   ]
  },
  {
   "cell_type": "markdown",
   "metadata": {
    "id": "BQqPpODCB19t"
   },
   "source": [
    "#Task 3\n",
    "*For all vertices of the simple graph compute and display their degrees*"
   ]
  },
  {
   "cell_type": "code",
   "execution_count": null,
   "metadata": {
    "colab": {
     "base_uri": "https://localhost:8080/",
     "height": 36
    },
    "id": "sbCwpmgMByql",
    "outputId": "05180728-fe3e-4abf-c1c6-5b3445d397b9"
   },
   "outputs": [
    {
     "data": {
      "text/plain": [
       "[('1', 3), ('2', 1), ('3', 2), ('4', 3), ('5', 3), ('6', 0), ('7', 0)]"
      ]
     },
     "execution_count": 29,
     "metadata": {
      "tags": []
     },
     "output_type": "execute_result"
    }
   ],
   "source": [
    "def calculateDegree(Graph):\n",
    "  nodes_list = list(G)\n",
    "  degreee=Graph.degree(nodes_list)\n",
    "  return list(degreee)\n",
    "\n",
    "calculateDegree(G)"
   ]
  },
  {
   "cell_type": "markdown",
   "metadata": {
    "id": "I-wwPxGfCEMb"
   },
   "source": [
    "#Task 4\n",
    "*Implement a function that sums up all the degrees of the simple graph. Isthe sum twice as much as the number of edges?*"
   ]
  },
  {
   "cell_type": "code",
   "execution_count": null,
   "metadata": {
    "colab": {
     "base_uri": "https://localhost:8080/",
     "height": 54
    },
    "id": "vDXvItsICLkw",
    "outputId": "511013fc-3579-4351-f5b6-f003be319caa"
   },
   "outputs": [
    {
     "name": "stdout",
     "output_type": "stream",
     "text": [
      "Sum of all degree in simple graph:\n",
      "12\n"
     ]
    }
   ],
   "source": [
    "\n",
    "\n",
    "\n",
    "def sumOfAllDegree(Graph):\n",
    "  nodes_list = list(Graph)\n",
    "  degreee=dict(Graph.degree(nodes_list))\n",
    "  sumate = sum(degreee.values())\n",
    "  return sumate\n",
    "  \n",
    "print(\"Sum of all degree in simple graph:\")\n",
    "print(sumOfAllDegree(G))"
   ]
  },
  {
   "cell_type": "markdown",
   "metadata": {
    "id": "kmeWKHIkDWyS"
   },
   "source": [
    "#Task 5\n",
    "*For all vertices of the directed graph compute and display their indegrees and outdegrees*"
   ]
  },
  {
   "cell_type": "code",
   "execution_count": null,
   "metadata": {
    "colab": {
     "base_uri": "https://localhost:8080/",
     "height": 91
    },
    "id": "LexFNNY5Dbm8",
    "outputId": "1df0b682-9a90-461e-d1ff-01d4c8a4b3fa"
   },
   "outputs": [
    {
     "name": "stdout",
     "output_type": "stream",
     "text": [
      "Indegree:\n",
      "[('1', 1), ('2', 1), ('3', 1), ('4', 1), ('5', 1), ('6', 0), ('7', 0)]\n",
      "Outdegree:\n",
      "[('1', 1), ('2', 0), ('3', 1), ('4', 0), ('5', 3), ('6', 0), ('7', 0)]\n"
     ]
    }
   ],
   "source": [
    "def calculateInIndegree(Graph):\n",
    "  return Graph.in_degree()\n",
    "def calculateOutdegree(Graph):   \n",
    "  return Graph.out_degree()\n",
    "\n",
    "print('Indegree:')\n",
    "print(calculateInIndegree(H))\n",
    "\n",
    "print('Outdegree:')\n",
    "print(calculateOutdegree(H))"
   ]
  },
  {
   "cell_type": "markdown",
   "metadata": {
    "id": "bmVNdMIsDzXr"
   },
   "source": [
    "#Task 6\n",
    "*Represent both graphs as a list of edges*"
   ]
  },
  {
   "cell_type": "code",
   "execution_count": null,
   "metadata": {
    "colab": {
     "base_uri": "https://localhost:8080/",
     "height": 258
    },
    "id": "mWeDb0ieD1Zd",
    "outputId": "c45f80da-e550-407f-9bf0-306c8c54a0dc"
   },
   "outputs": [
    {
     "name": "stdout",
     "output_type": "stream",
     "text": [
      "edgelist for simple Graph\n",
      "['1', '3']\n",
      "['1', '4']\n",
      "['1', '5']\n",
      "['2', '5']\n",
      "['3', '4']\n",
      "['4', '5']\n",
      "edgelist for simple Graph\n",
      "['1', '5']\n",
      "['3', '2']\n",
      "['5', '1']\n",
      "['5', '3']\n",
      "['5', '4']\n"
     ]
    }
   ],
   "source": [
    "def generate_edgelist(Graph):\n",
    "  for line in nx.generate_edgelist(Graph,delimiter='', data=False):\n",
    "    print(list(line))\n",
    "    \n",
    "print(\"edgelist for simple Graph\")\n",
    "generate_edgelist(G)\n",
    "\n",
    "print(\"edgelist for simple Graph\")\n",
    "generate_edgelist(H)"
   ]
  },
  {
   "cell_type": "markdown",
   "metadata": {
    "id": "I3E9RpolFMu-"
   },
   "source": [
    "#Task7\n",
    "*Implement a function that takes a list of edges as an input and outputs alist of vertices (all values in the list must be unique*"
   ]
  },
  {
   "cell_type": "code",
   "execution_count": null,
   "metadata": {
    "colab": {
     "base_uri": "https://localhost:8080/",
     "height": 36
    },
    "id": "MZ-2MJe3FQiE",
    "outputId": "59aad249-b01b-45da-90fa-c3485f9e0db8"
   },
   "outputs": [
    {
     "name": "stdout",
     "output_type": "stream",
     "text": [
      "['1', '2', '3', '4', '5', '6', '7']\n"
     ]
    }
   ],
   "source": [
    "def edge_list2vertices(Graph):\n",
    "  edge_list=Graph.edges\n",
    "  G.add_edges_from(edge_list)\n",
    "  return list(G)\n",
    "\n",
    "print(edge_list2vertices(H))"
   ]
  },
  {
   "cell_type": "markdown",
   "metadata": {
    "id": "L90tygyQFrs0"
   },
   "source": [
    "#Task 8 \n",
    "*Draw (plot) both graphs(their look may not match exactly the given task*"
   ]
  },
  {
   "cell_type": "code",
   "execution_count": null,
   "metadata": {
    "colab": {
     "base_uri": "https://localhost:8080/",
     "height": 319
    },
    "id": "LUHBBwlCF0Pe",
    "outputId": "68e6e0a5-bfb3-451a-8da3-436a335e0464"
   },
   "outputs": [
    {
     "data": {
      "image/png": "[encoded data removed]",
      "text/plain": [
       "<Figure size 432x288 with 1 Axes>"
      ]
     },
     "metadata": {
      "tags": []
     },
     "output_type": "display_data"
    }
   ],
   "source": [
    "nx.draw_circular(G,with_labels=True)\n",
    "plt.show()\n"
   ]
  },
  {
   "cell_type": "code",
   "execution_count": null,
   "metadata": {
    "colab": {
     "base_uri": "https://localhost:8080/",
     "height": 319
    },
    "id": "xJpq2SQmF8xP",
    "outputId": "7dd5c2a4-6b06-4da9-f3db-7976598cf3d6"
   },
   "outputs": [
    {
     "data": {
      "image/png": "[encoded data removed]",
      "text/plain": [
       "<Figure size 432x288 with 1 Axes>"
      ]
     },
     "metadata": {
      "tags": []
     },
     "output_type": "display_data"
    }
   ],
   "source": [
    "\n",
    "nx.draw_circular(H,with_labels=True)\n",
    "plt.show()"
   ]
  }
 ],
 "metadata": {
  "colab": {
   "collapsed_sections": [],
   "name": "Independent work 1.ipynb",
   "provenance": []
  },
  "kernelspec": {
   "display_name": "Python 3",
   "language": "python",
   "name": "python3"
  },
  "language_info": {
   "codemirror_mode": {
    "name": "ipython",
    "version": 3
   },
   "file_extension": ".py",
   "mimetype": "text/x-python",
   "name": "python",
   "nbconvert_exporter": "python",
   "pygments_lexer": "ipython3",
   "version": "3.8.3"
  }
 },
 "nbformat": 4,
 "nbformat_minor": 1
}
